{
  "nbformat": 4,
  "nbformat_minor": 0,
  "metadata": {
    "colab": {
      "name": "Pytorch Basics.ipynb",
      "provenance": [],
      "collapsed_sections": []
    },
    "kernelspec": {
      "name": "python3",
      "display_name": "Python 3"
    },
    "accelerator": "GPU"
  },
  "cells": [
    {
      "cell_type": "code",
      "metadata": {
        "id": "Ve4EAnbHTX5Q",
        "colab_type": "code",
        "outputId": "a7a7842d-dde9-4119-b97f-2eca2a8fb7ad",
        "colab": {
          "base_uri": "https://localhost:8080/",
          "height": 34
        }
      },
      "source": [
        "import torch\n",
        "import numpy as np\n",
        "torch.__version__"
      ],
      "execution_count": 11,
      "outputs": [
        {
          "output_type": "execute_result",
          "data": {
            "text/plain": [
              "'1.5.0+cu101'"
            ]
          },
          "metadata": {
            "tags": []
          },
          "execution_count": 11
        }
      ]
    },
    {
      "cell_type": "markdown",
      "metadata": {
        "id": "5f_L_BUWRYyR",
        "colab_type": "text"
      },
      "source": [
        "# Pytorch Basics\n"
      ]
    },
    {
      "cell_type": "code",
      "metadata": {
        "id": "SB1EUzMZRRYy",
        "colab_type": "code",
        "outputId": "4b57703d-759e-4740-b0c5-890d19a867bc",
        "colab": {
          "base_uri": "https://localhost:8080/",
          "height": 50
        }
      },
      "source": [
        "t1 = torch.tensor(4) #int\n",
        "t2 = torch.tensor(4.) # same as 4.0 (float)\n",
        "print(t1,t2)\n",
        "print(t1.dtype,t2.dtype)"
      ],
      "execution_count": 0,
      "outputs": [
        {
          "output_type": "stream",
          "text": [
            "tensor(4) tensor(4.)\n",
            "torch.int64 torch.float32\n"
          ],
          "name": "stdout"
        }
      ]
    },
    {
      "cell_type": "code",
      "metadata": {
        "id": "H_zCQVRpZnxy",
        "colab_type": "code",
        "outputId": "d49c7f7d-689d-4000-bc5f-aa9ae652986a",
        "colab": {
          "base_uri": "https://localhost:8080/",
          "height": 34
        }
      },
      "source": [
        "t3 = torch.tensor([1,2,3,4])\n",
        "t4 = torch.tensor([1.,2,3,4]) # single floating point converts all \n",
        "t3.dtype,t4.dtype"
      ],
      "execution_count": 0,
      "outputs": [
        {
          "output_type": "execute_result",
          "data": {
            "text/plain": [
              "(torch.int64, torch.float32)"
            ]
          },
          "metadata": {
            "tags": []
          },
          "execution_count": 5
        }
      ]
    },
    {
      "cell_type": "code",
      "metadata": {
        "id": "0XhUHycyex_C",
        "colab_type": "code",
        "colab": {}
      },
      "source": [
        "a = [[1,2,3],[4,5,6]]\n",
        "t5 = torch.tensor(a)"
      ],
      "execution_count": 0,
      "outputs": []
    },
    {
      "cell_type": "code",
      "metadata": {
        "id": "cCtbzlmqfHAL",
        "colab_type": "code",
        "outputId": "5dfd4b72-8bac-4f9b-a353-ee2e5ecb54ef",
        "colab": {
          "base_uri": "https://localhost:8080/",
          "height": 34
        }
      },
      "source": [
        "t5.shape,t5.dtype"
      ],
      "execution_count": 0,
      "outputs": [
        {
          "output_type": "execute_result",
          "data": {
            "text/plain": [
              "(torch.Size([2, 3]), torch.int64)"
            ]
          },
          "metadata": {
            "tags": []
          },
          "execution_count": 8
        }
      ]
    },
    {
      "cell_type": "code",
      "metadata": {
        "id": "rgcSjpRTfk9U",
        "colab_type": "code",
        "outputId": "d346a36c-6fb2-4430-c872-adf45aa23c3e",
        "colab": {
          "base_uri": "https://localhost:8080/",
          "height": 34
        }
      },
      "source": [
        "b = [[[1,2],[1,2]],[[1,2],[1,2]],[[1,2],[1,2]]]\n",
        "t6 = torch.tensor(b)\n",
        "t6.shape"
      ],
      "execution_count": 0,
      "outputs": [
        {
          "output_type": "execute_result",
          "data": {
            "text/plain": [
              "torch.Size([3, 2, 2])"
            ]
          },
          "metadata": {
            "tags": []
          },
          "execution_count": 10
        }
      ]
    },
    {
      "cell_type": "markdown",
      "metadata": {
        "id": "bS2MYsewfbqz",
        "colab_type": "text"
      },
      "source": [
        "# Tensor Operations and Gradients"
      ]
    },
    {
      "cell_type": "code",
      "metadata": {
        "id": "qfHfcSz5fJyC",
        "colab_type": "code",
        "colab": {
          "base_uri": "https://localhost:8080/",
          "height": 34
        },
        "outputId": "24592053-bf78-4a40-fe9a-763790f94722"
      },
      "source": [
        "x = torch.tensor(3.)\n",
        "w = torch.tensor(4.,requires_grad=True)\n",
        "b = torch.tensor(5.,requires_grad=True)\n",
        "\n",
        "y = w*x + b\n",
        "print(y)"
      ],
      "execution_count": 8,
      "outputs": [
        {
          "output_type": "stream",
          "text": [
            "tensor(17., grad_fn=<AddBackward0>)\n"
          ],
          "name": "stdout"
        }
      ]
    },
    {
      "cell_type": "code",
      "metadata": {
        "id": "w5dt0TcxKIIj",
        "colab_type": "code",
        "colab": {
          "base_uri": "https://localhost:8080/",
          "height": 67
        },
        "outputId": "1b22d3fe-7380-44c1-d8c1-cda055bc997e"
      },
      "source": [
        "# Now we will see how to computer derivatives\n",
        "y.backward()\n",
        "print(x.grad)\n",
        "print(w.grad)\n",
        "print(b.grad)"
      ],
      "execution_count": 9,
      "outputs": [
        {
          "output_type": "stream",
          "text": [
            "None\n",
            "tensor(3.)\n",
            "tensor(1.)\n"
          ],
          "name": "stdout"
        }
      ]
    },
    {
      "cell_type": "code",
      "metadata": {
        "id": "cC-edXdQKRtN",
        "colab_type": "code",
        "colab": {
          "base_uri": "https://localhost:8080/",
          "height": 34
        },
        "outputId": "2c402a42-0de7-4a8d-f012-75445132e14a"
      },
      "source": [
        "t1 = np.array([1,2,3])\n",
        "t2 = torch.tensor(t1)\n",
        "\n",
        "t1.dtype,t2.dtype"
      ],
      "execution_count": 12,
      "outputs": [
        {
          "output_type": "execute_result",
          "data": {
            "text/plain": [
              "(dtype('int64'), torch.int64)"
            ]
          },
          "metadata": {
            "tags": []
          },
          "execution_count": 12
        }
      ]
    },
    {
      "cell_type": "code",
      "metadata": {
        "id": "S8jS38oFMFg2",
        "colab_type": "code",
        "colab": {}
      },
      "source": [
        ""
      ],
      "execution_count": 0,
      "outputs": []
    }
  ]
}