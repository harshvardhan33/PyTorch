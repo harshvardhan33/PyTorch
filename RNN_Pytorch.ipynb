{
  "nbformat": 4,
  "nbformat_minor": 0,
  "metadata": {
    "colab": {
      "name": "RNN_Pytorch.ipynb",
      "provenance": [],
      "collapsed_sections": []
    },
    "kernelspec": {
      "name": "python3",
      "display_name": "Python 3"
    },
    "accelerator": "GPU"
  },
  "cells": [
    {
      "cell_type": "markdown",
      "metadata": {
        "id": "SnETTsCLvwJX"
      },
      "source": [
        "# RNN Implementation using Pytorch"
      ]
    },
    {
      "cell_type": "code",
      "metadata": {
        "id": "xCuV-hYJv0XQ"
      },
      "source": [
        "import torch \r\n",
        "import torch.nn as nn\r\n",
        "import torchvision \r\n",
        "import torchvision.datasets as datasets \r\n",
        "import torchvision.transforms as transforms \r\n",
        "import torch.optim as optim \r\n",
        "import torch.nn.functional as F \r\n",
        "from torch.utils.data import DataLoader\r\n"
      ],
      "execution_count": 33,
      "outputs": []
    },
    {
      "cell_type": "markdown",
      "metadata": {
        "id": "FNfgUGvN6Jbc"
      },
      "source": [
        "# Set Device "
      ]
    },
    {
      "cell_type": "code",
      "metadata": {
        "id": "XhyEv0_q6FrP"
      },
      "source": [
        "device = torch.device(\"cuda\" if torch.cuda.is_available() else \"cpu\")"
      ],
      "execution_count": 34,
      "outputs": []
    },
    {
      "cell_type": "markdown",
      "metadata": {
        "id": "irzos-vK6Y5G"
      },
      "source": [
        "# HyperParameters"
      ]
    },
    {
      "cell_type": "code",
      "metadata": {
        "id": "GrDdyE3x6Ya2"
      },
      "source": [
        "input_size = 28\r\n",
        "# taking 1 row at a time\r\n",
        "sequence_length = 28\r\n",
        "num_layers = 2\r\n",
        "hidden_size = 256\r\n",
        "num_classes = 10\r\n",
        "learning_rate = 0.001\r\n",
        "batch_size = 64\r\n",
        "num_epochs = 2"
      ],
      "execution_count": 35,
      "outputs": []
    },
    {
      "cell_type": "markdown",
      "metadata": {
        "id": "zj3zVl-p8b5n"
      },
      "source": [
        "# Load the dataset "
      ]
    },
    {
      "cell_type": "code",
      "metadata": {
        "id": "wA5IuiAW8fxc"
      },
      "source": [
        "train_dataset = datasets.MNIST(root=\"content/\",train=True,transform = transforms.ToTensor(),download=True)\r\n",
        "train_loader = DataLoader(dataset=train_dataset,batch_size = batch_size,shuffle=True)\r\n",
        "\r\n",
        "test_dataset = datasets.MNIST(root=\"content/\",train=False,transform = transforms.ToTensor(),download=True)\r\n",
        "test_loader = DataLoader(dataset=test_dataset,batch_size = batch_size,shuffle=True)"
      ],
      "execution_count": 36,
      "outputs": []
    },
    {
      "cell_type": "markdown",
      "metadata": {
        "id": "ogX9yHOK6cJ7"
      },
      "source": [
        "# Define Model \r\n",
        "\r\n",
        "1. For RNN type of model on images we need to convert the images into time steps.\r\n",
        "\r\n",
        "2. Initially the image size can be defined as 1x28x28 for the mnist dataset.\r\n",
        "\r\n",
        "3. When we include the batch size also the dimension of the image will be as **(Batch_size x 1 x 28 x 28)**\r\n",
        "\r\n",
        "4. We need to change the dimension of this in time steps we will treat each row as a single time step. Therefore one image can be described as TimeStep x InputSize (28*28).\r\n"
      ]
    },
    {
      "cell_type": "code",
      "metadata": {
        "id": "trprUFjf6bgQ"
      },
      "source": [
        "\r\n",
        "# Simple traditional RNN \r\n",
        "class RNN_traditional(nn.Module):\r\n",
        "  def __init__(self,input_size,hidden_size,num_layers,num_classes):\r\n",
        "    super(RNN_traditional,self).__init__()\r\n",
        "    self.hidden_size = hidden_size\r\n",
        "    self.num_layers = num_layers\r\n",
        "    self.rnn = nn.RNN(input_size,hidden_size,num_layers,batch_first=True) #batch is first dimension\r\n",
        "    # N x timeseq x time_feature\r\n",
        "    self.fc = nn.Linear(hidden_size*sequence_length,num_classes)\r\n",
        "  \r\n",
        "  def forward(self,x):\r\n",
        "    h0 = torch.zeros(self.num_layers,x.size(0),self.hidden_size).to(device)\r\n",
        "    # Forward prop\r\n",
        "    out,_ = self.rnn(x,h0)\r\n",
        "    out = out.reshape(out.shape[0],-1)\r\n",
        "    out = self.fc(out)\r\n",
        "    return out\r\n",
        "  \r\n"
      ],
      "execution_count": 65,
      "outputs": []
    },
    {
      "cell_type": "code",
      "metadata": {
        "id": "oDq3gNriCAi4"
      },
      "source": [
        "\r\n",
        "# RNN with a GRU unit \r\n",
        "class RNN_GRU(nn.Module):\r\n",
        "  def __init__(self,input_size,hidden_size,num_layers,num_classes):\r\n",
        "    super(RNN_GRU,self).__init__()\r\n",
        "    self.hidden_size = hidden_size\r\n",
        "    self.num_layers = num_layers\r\n",
        "    self.gru = nn.GRU(input_size,hidden_size,num_layers,batch_first=True) #batch is first dimension\r\n",
        "    # N x timeseq x time_feature\r\n",
        "    self.fc = nn.Linear(hidden_size*sequence_length,num_classes)\r\n",
        "  \r\n",
        "  def forward(self,x):\r\n",
        "    h0 = torch.zeros(self.num_layers,x.size(0),self.hidden_size).to(device)\r\n",
        "    # Forward prop\r\n",
        "    out,_ = self.gru(x,h0)\r\n",
        "    out = out.reshape(out.shape[0],-1)\r\n",
        "    out = self.fc(out)\r\n",
        "    return out"
      ],
      "execution_count": 70,
      "outputs": []
    },
    {
      "cell_type": "code",
      "metadata": {
        "id": "KoNhZW_cCibd"
      },
      "source": [
        "\r\n",
        "# RNN with a LSTM unit \r\n",
        "class RNN_LSTM(nn.Module):\r\n",
        "  def __init__(self,input_size,hidden_size,num_layers,num_classes):\r\n",
        "    super(RNN_LSTM,self).__init__()\r\n",
        "    self.hidden_size = hidden_size\r\n",
        "    self.num_layers = num_layers\r\n",
        "    self.lstm = nn.LSTM(input_size,hidden_size,num_layers,batch_first=True) #batch is first dimension\r\n",
        "    # N x timeseq x time_feature\r\n",
        "    self.fc = nn.Linear(hidden_size,num_classes)\r\n",
        "  \r\n",
        "  def forward(self,x):\r\n",
        "    h0 = torch.zeros(self.num_layers,x.size(0),self.hidden_size).to(device)\r\n",
        "    c0 = torch.zeros(self.num_layers, x.size(0),self.hidden_size).to(device)\r\n",
        "    # Forward prop\r\n",
        "    out,_ = self.lstm(x,(h0,c0))\r\n",
        "    out = self.fc(out[:,-1,:])\r\n",
        "    return out"
      ],
      "execution_count": 82,
      "outputs": []
    },
    {
      "cell_type": "code",
      "metadata": {
        "id": "YdG8di5_6bip"
      },
      "source": [
        "model = RNN_traditional(input_size,hidden_size,num_layers,num_classes).to(device)\r\n",
        "criterion = nn.CrossEntropyLoss()\r\n",
        "optimizer = optim.Adam(model.parameters(),lr=learning_rate)"
      ],
      "execution_count": 66,
      "outputs": []
    },
    {
      "cell_type": "code",
      "metadata": {
        "id": "wt1w8YjtCLoU"
      },
      "source": [
        "# With the GRU unit \r\n",
        "model = RNN_GRU(input_size,hidden_size,num_layers,num_classes).to(device)\r\n",
        "criterion = nn.CrossEntropyLoss()\r\n",
        "optimizer = optim.Adam(model.parameters(),lr=learning_rate)"
      ],
      "execution_count": 71,
      "outputs": []
    },
    {
      "cell_type": "code",
      "metadata": {
        "id": "fJcK3ACNCzNG"
      },
      "source": [
        "# With the LSTM unit \r\n",
        "model = RNN_LSTM(input_size,hidden_size,num_layers,num_classes).to(device)\r\n",
        "criterion = nn.CrossEntropyLoss()\r\n",
        "optimizer = optim.Adam(model.parameters(),lr=learning_rate)"
      ],
      "execution_count": 83,
      "outputs": []
    },
    {
      "cell_type": "code",
      "metadata": {
        "colab": {
          "base_uri": "https://localhost:8080/"
        },
        "id": "fwNqMgwz809a",
        "outputId": "7da3acf4-3421-448d-dccf-f22bdc14f7e8"
      },
      "source": [
        "import time \r\n",
        "total_time = time.time()\r\n",
        "for epoch in range(num_epochs):\r\n",
        "  epoch_time = time.time()\r\n",
        "  print(f\"Epoch : {epoch}\")\r\n",
        "  for batch_idx,(data,targets) in enumerate(train_loader):\r\n",
        "    # get data to cuda\r\n",
        "    data = data.to(device=device).squeeze(1)\r\n",
        "    targets = targets.to(device=device)\r\n",
        "\r\n",
        "    #forward\r\n",
        "    scores = model(data)\r\n",
        "    # loss value\r\n",
        "    loss = criterion(scores,targets)\r\n",
        "    # backward prop\r\n",
        "    optimizer.zero_grad()  # sets previous epoch gradient zero\r\n",
        "    loss.backward()\r\n",
        "\r\n",
        "    # gradient descent\r\n",
        "    optimizer.step()\r\n",
        "  print(f\"Loss = {loss:.4f}\")\r\n",
        "  print(f\"Time : {time.time()-epoch_time:.3f} sec\")\r\n",
        "  print(\"------------------------------------------------\")\r\n",
        "\r\n",
        "time_taken = time.time() - total_time\r\n",
        "print(f\"Overall Model Execution time : {time_taken:.3f} seconds\" )\r\n",
        "print(f\"Overall Model Execution time : {time_taken/60:.3f} minutes\")\r\n",
        "print(f\"Overall Model Execution time : {time_taken/3600:.3f} hours\")\r\n",
        "\r\n",
        "\r\n"
      ],
      "execution_count": 84,
      "outputs": [
        {
          "output_type": "stream",
          "text": [
            "Epoch : 0\n",
            "Loss = 0.1325\n",
            "Time : 12.847 sec\n",
            "------------------------------------------------\n",
            "Epoch : 1\n",
            "Loss = 0.0027\n",
            "Time : 12.652 sec\n",
            "------------------------------------------------\n",
            "Overall Model Execution time : 25.501 seconds\n",
            "Overall Model Execution time : 0.425 minutes\n",
            "Overall Model Execution time : 0.007 hours\n"
          ],
          "name": "stdout"
        }
      ]
    },
    {
      "cell_type": "markdown",
      "metadata": {
        "id": "ja4p6XNF-V6Z"
      },
      "source": [
        "# Accuracy of the model"
      ]
    },
    {
      "cell_type": "code",
      "metadata": {
        "id": "bWHL0pci81AD"
      },
      "source": [
        "def  checkAccuracy(loader,model):\r\n",
        "  if loader.dataset.train:\r\n",
        "    print(\"Accuracy on Training Dataset\")\r\n",
        "  else:\r\n",
        "    print(\"Accuracy on the Testing Dataset\")\r\n",
        "  \r\n",
        "  num_correct = 0\r\n",
        "  num_samples = 0 \r\n",
        "  model.eval()\r\n",
        "\r\n",
        "  with torch.no_grad():\r\n",
        "    for x,y in loader:\r\n",
        "      x = x.to(device=device).squeeze(1)\r\n",
        "      y = y.to(device=device)\r\n",
        "      scores = model(x)\r\n",
        "      _,predictions = scores.max(1)\r\n",
        "      num_correct+= (predictions==y).sum()\r\n",
        "      num_samples+=predictions.size(0)\r\n",
        "    \r\n",
        "    print(f\" Got {num_correct}/ {num_samples} with accuracy : {float(num_correct)/float(num_samples)*100:.2f}\")\r\n",
        "  model.train()"
      ],
      "execution_count": 85,
      "outputs": []
    },
    {
      "cell_type": "code",
      "metadata": {
        "colab": {
          "base_uri": "https://localhost:8080/"
        },
        "id": "oEikRycT_jac",
        "outputId": "1db069e4-7db0-483c-fc76-924e2b1e7586"
      },
      "source": [
        "print(\"RNN traditional\")\r\n",
        "checkAccuracy(train_loader,model)\r\n",
        "checkAccuracy(test_loader,model)    "
      ],
      "execution_count": 69,
      "outputs": [
        {
          "output_type": "stream",
          "text": [
            "RNN traditional\n",
            "Accuracy on Training Dataset\n",
            " Got 57633/ 60000 with accuracy : 96.06\n",
            "Accuracy on the Testing Dataset\n",
            " Got 9575/ 10000 with accuracy : 95.75\n"
          ],
          "name": "stdout"
        }
      ]
    },
    {
      "cell_type": "code",
      "metadata": {
        "colab": {
          "base_uri": "https://localhost:8080/"
        },
        "id": "poiHiwYA81CW",
        "outputId": "472109f4-1a39-4924-bcc1-31bd913c530d"
      },
      "source": [
        "print(\"RNN with GRU unit \")\r\n",
        "checkAccuracy(train_loader,model)\r\n",
        "checkAccuracy(test_loader,model)"
      ],
      "execution_count": 73,
      "outputs": [
        {
          "output_type": "stream",
          "text": [
            "RNN with GRU unit \n",
            "Accuracy on Training Dataset\n",
            " Got 59231/ 60000 with accuracy : 98.72\n",
            "Accuracy on the Testing Dataset\n",
            " Got 9840/ 10000 with accuracy : 98.40\n"
          ],
          "name": "stdout"
        }
      ]
    },
    {
      "cell_type": "code",
      "metadata": {
        "colab": {
          "base_uri": "https://localhost:8080/"
        },
        "id": "sYNO9I1G81FC",
        "outputId": "3a5be9c9-36a2-4c64-9d1a-e48221fa29f5"
      },
      "source": [
        "print(\"RNN with LSTM unit \")\r\n",
        "checkAccuracy(train_loader,model)\r\n",
        "checkAccuracy(test_loader,model)"
      ],
      "execution_count": 86,
      "outputs": [
        {
          "output_type": "stream",
          "text": [
            "RNN with LSTM unit \n",
            "Accuracy on Training Dataset\n",
            " Got 58827/ 60000 with accuracy : 98.05\n",
            "Accuracy on the Testing Dataset\n",
            " Got 9811/ 10000 with accuracy : 98.11\n"
          ],
          "name": "stdout"
        }
      ]
    }
  ]
}